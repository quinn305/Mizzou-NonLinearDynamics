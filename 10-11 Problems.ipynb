{
 "cells": [
  {
   "cell_type": "markdown",
   "metadata": {},
   "source": [
    "# Problems"
   ]
  },
  {
   "cell_type": "markdown",
   "metadata": {
    "heading_collapsed": true
   },
   "source": [
    "## Preamble"
   ]
  },
  {
   "cell_type": "code",
   "execution_count": null,
   "metadata": {
    "hidden": true
   },
   "outputs": [],
   "source": [
    "import numpy as np\n",
    "from scipy.integrate import odeint\n",
    "from scipy.integrate import quad\n",
    "from scipy.interpolate import InterpolatedUnivariateSpline as interpolate\n",
    "from scipy.optimize import root\n",
    "from scipy.misc import derivative\n",
    "import scipy.linalg as lg\n",
    "\n",
    "import sympy as sp\n",
    "import fractions as fra\n",
    "import itertools as itr\n",
    "\n",
    "from tabulate import tabulate\n",
    "\n",
    "from ipywidgets import interact"
   ]
  },
  {
   "cell_type": "code",
   "execution_count": null,
   "metadata": {
    "hidden": true
   },
   "outputs": [],
   "source": [
    "%matplotlib inline\n",
    "%config InlineBackend.figure_format = 'svg'\n",
    "\n",
    "import matplotlib as mpl\n",
    "import matplotlib.pyplot as plt\n",
    "\n",
    "import matplotlib.ticker as ticker\n",
    "from matplotlib.ticker import (MultipleLocator, FormatStrFormatter,\n",
    "                               AutoMinorLocator)\n",
    "%run -i \"rcParameters.py\"\n",
    "#from mpl_toolkits.mplot3d import Axes3D\n",
    "\n",
    "plt.rcParams[\"font.family\"]='Times New Roman'\n",
    "plt.rcParams[\"mathtext.fontset\"]='stix';"
   ]
  },
  {
   "cell_type": "code",
   "execution_count": null,
   "metadata": {
    "hidden": true
   },
   "outputs": [],
   "source": [
    "# set fontsize in markdown cells\n",
    "from IPython.core.display import display, HTML, Latex\n",
    "display(HTML(\"<style>.rendered_html { font-size: 16px; }</style>\"))"
   ]
  },
  {
   "cell_type": "markdown",
   "metadata": {
    "heading_collapsed": true
   },
   "source": [
    "## Utility functions"
   ]
  },
  {
   "cell_type": "code",
   "execution_count": null,
   "metadata": {
    "hidden": true
   },
   "outputs": [],
   "source": [
    "def NestList(f,x0,n0):\n",
    "    '''\n",
    "    generate nested list by applying f n=0,...,n0 times on x0\n",
    "    input:  f(x,_), x0, n0=integer\n",
    "    output: [x0,f(x0),f(f(x0)),...,f(...(f(x0)))]\n",
    "    '''\n",
    "    return [a for a in itr.accumulate(itr.repeat(x0,n0),f)]\n",
    "\n",
    "def Nest(f,x,n):\n",
    "    '''Applies function f n-times to x'''\n",
    "    if n==0:\n",
    "        return x\n",
    "    return Nest(f,f(x),n-1)"
   ]
  },
  {
   "cell_type": "code",
   "execution_count": null,
   "metadata": {
    "hidden": true
   },
   "outputs": [],
   "source": [
    "# define Logistic Map (LM) and LM series\n",
    "f_LM = lambda x,r: r*x*(1-x)\n",
    "def logistic_series(x0,r,n):\n",
    "    f = lambda x,_: f_LM(x,r)\n",
    "    return NestList(f,x0,n)"
   ]
  },
  {
   "cell_type": "code",
   "execution_count": null,
   "metadata": {
    "hidden": true
   },
   "outputs": [],
   "source": [
    "# plot cobweb x_(n+1)=f(x_n)\n",
    "def cobweb_f(f,x0,n0,ax,ls='-',col='r',lw=1):\n",
    "    ax = ax or plt.gca\n",
    "    f_ = lambda x,_: f(x)\n",
    "    dat = NestList(f_,x0,n0)\n",
    "    x = list(itr.chain(*zip(dat,dat)))\n",
    "    ax.plot(x[:-1],x[1:],c=col,ls=ls,lw=lw)\n",
    "    return ax\n",
    "\n",
    "# plot cobweb {x_0,...,x_n}\n",
    "def cobweb_x(xdat,ax,ls='-',col='r',lw=1,nS=1):\n",
    "    ax = ax or plt.gca\n",
    "    x = list(itr.chain(*zip(xdat,xdat)))\n",
    "    ax.plot(x[nS:-1],x[nS+1:],c=col,ls=ls,lw=lw)\n",
    "    return ax"
   ]
  },
  {
   "cell_type": "code",
   "execution_count": null,
   "metadata": {
    "hidden": true
   },
   "outputs": [],
   "source": []
  },
  {
   "cell_type": "markdown",
   "metadata": {
    "heading_collapsed": true
   },
   "source": [
    "## 10.3.7"
   ]
  },
  {
   "cell_type": "markdown",
   "metadata": {
    "hidden": true
   },
   "source": [
    "Consider the ___decimal shift map___ on the unit interval given by \n",
    "\n",
    "$x_{n+1}=10\\,x_n\\;$(mod 1)\n",
    "\n",
    "As usual, \"$z (mod 1)$\" means the noninteger part of $z$."
   ]
  },
  {
   "cell_type": "markdown",
   "metadata": {
    "heading_collapsed": true,
    "hidden": true
   },
   "source": [
    "#### (a) draw the graph of the map"
   ]
  },
  {
   "cell_type": "code",
   "execution_count": null,
   "metadata": {
    "hidden": true
   },
   "outputs": [],
   "source": [
    "f = lambda x: 10*x % 1\n",
    "fp= lambda x: np.diff(f(x))"
   ]
  },
  {
   "cell_type": "code",
   "execution_count": null,
   "metadata": {
    "hidden": true
   },
   "outputs": [],
   "source": [
    "xx = np.linspace(0,1,600)\n",
    "# remove discontinuities\n",
    "yy = f(xx)\n",
    "dp = np.where(np.diff(f(xx)) < 0)[0]+1\n",
    "yy1 = np.insert(yy,dp,np.nan)\n",
    "xx1=np.copy(xx)\n",
    "xx1=np.insert(xx,dp,np.nan)\n",
    "\n",
    "# plot f(x) w/o discontinuities\n",
    "plt.plot(xx,xx,'k--',lw=1)\n",
    "plt.plot(xx1,yy1,'b-',lw=2)\n",
    "# plot the fixed points x*=f(x*) = {0,1/9,2/9,...,8/9,1=0.999...}\n",
    "for i in np.arange(0,10,1):\n",
    "    plt.plot(i/9,i/9,'o',ms=8,mfc='w',mec='r',lw=1)\n",
    "plt.grid()\n",
    "plt.xlabel('$x$')\n",
    "plt.ylabel('$f(x)$')\n",
    "# plt.xlim(0,1)\n",
    "# plt.ylim(0,1)\n",
    "# plt.yticks(np.arange(0.2,1.2,0.2))\n",
    "plt.show()"
   ]
  },
  {
   "cell_type": "code",
   "execution_count": null,
   "metadata": {
    "hidden": true
   },
   "outputs": [],
   "source": [
    "# cobweb for two nearby ICs\n",
    "def f_series(x0,n):\n",
    "    f_ = lambda x,_: f(x)\n",
    "    return NestList(f_,x0,n)\n",
    "\n",
    "x1=f(np.pi)\n",
    "x2=x1*1.001\n",
    "\n",
    "fig, ax=plt.subplots()\n",
    "cobweb_x(f_series(x1,100)[:],ax,lw=1,col='r')\n",
    "cobweb_x(f_series(x2,100)[:],ax,lw=1,col='b')\n",
    "\n",
    "ax.plot(x1,f(x1),'o',ms=8,mfc='r',mec='b',mew=2)\n",
    "ax.plot(xx,xx,'k--')\n",
    "ax.plot(xx1,f(xx1),'k-',lw=2,alpha=0.4)\n",
    "\n",
    "ax.set_aspect('equal')\n",
    "ax.grid()\n",
    "ax.set_xlabel('$x_n$')\n",
    "ax.set_ylabel('$x_{n+1}$')\n",
    "# ax.set_xticks(np.arange(0,1.2,0.2))\n",
    "plt.show()"
   ]
  },
  {
   "cell_type": "markdown",
   "metadata": {
    "heading_collapsed": true
   },
   "source": [
    "## P10.4.3"
   ]
  },
  {
   "cell_type": "markdown",
   "metadata": {
    "hidden": true
   },
   "source": [
    "The map $x_{n+1}=1-rx^2$ has a superstable 3-cycle at a certain value of $r$. Find a cubic equation for $r$."
   ]
  },
  {
   "cell_type": "markdown",
   "metadata": {
    "heading_collapsed": true,
    "hidden": true
   },
   "source": [
    "#### Orbit diagram"
   ]
  },
  {
   "cell_type": "code",
   "execution_count": null,
   "metadata": {
    "hidden": true
   },
   "outputs": [],
   "source": [
    "f2 = lambda x,r: 1-r*x**2\n",
    "f2x = lambda x: f2(x,r)\n",
    "# define f^n(x,r)\n",
    "f2n = lambda x,n: Nest(f2x,x,n)\n",
    "\n",
    "def f2_series(x0,r,n):\n",
    "    f = lambda x,_: f2(x,r)\n",
    "    return NestList(f,x0,n)"
   ]
  },
  {
   "cell_type": "code",
   "execution_count": null,
   "metadata": {
    "hidden": true
   },
   "outputs": [],
   "source": [
    "x,y,r = sp.symbols('x,y,r',real=True)\n",
    "\n",
    "# equation: d[f^3(x,r)]/dx=0\n",
    "eq3p = f2n(x,3).diff(x)\n",
    "display(eq3p)\n",
    "[display(u.simplify()) for u in sp.solve(eq3p,x)];"
   ]
  },
  {
   "cell_type": "code",
   "execution_count": null,
   "metadata": {
    "hidden": true
   },
   "outputs": [],
   "source": [
    "# find cubic eq for r\n",
    "eq_r = f2n(0,3).expand()\n",
    "display(eq_r)\n",
    "# find value of r for superstable 3-cylcle\n",
    "r0 = sp.solve(eq_r,r)[2]\n",
    "display(r0)\n",
    "r0.n(6)"
   ]
  },
  {
   "cell_type": "code",
   "execution_count": null,
   "metadata": {
    "hidden": true
   },
   "outputs": [],
   "source": [
    "x_s = [u.n(6) for u in sp.solve(eq3p.subs(r,r0.n(6)),x)]\n",
    "x_s"
   ]
  },
  {
   "cell_type": "code",
   "execution_count": null,
   "metadata": {
    "hidden": true
   },
   "outputs": [],
   "source": [
    "[f2n(u,3).subs(r,r0.n(6)) for u in x_s]"
   ]
  },
  {
   "cell_type": "code",
   "execution_count": null,
   "metadata": {
    "hidden": true
   },
   "outputs": [],
   "source": [
    "r_1 = 1; r_2 = 2\n",
    "s1=301; s2=450\n",
    "x_0 = 1; x_1=-1.2; x_2=1.2\n",
    "col='r'\n",
    "\n",
    "fig_OD, ax=plt.subplots(figsize=(8,6))\n",
    "\n",
    "for u in np.linspace(r_1,r_2,200):\n",
    "    yy=f2_series(x_0,u,s2)[s1:]\n",
    "    yy2=f2_series(-x_0,u,s2)[s1:]\n",
    "    xx=np.ones(len(yy))*u\n",
    "    ax.plot(xx,yy,'o',ms=0.5,mfc=col,mec=col)\n",
    "    ax.plot(xx,yy2,'o',ms=0.5,mfc=col,mec=col)\n",
    "\n",
    "ax.axvline(r0.n(6),x_1,x_2,color='b',lw=1,label=\"$r=1.75488$\")\n",
    "ax.grid()\n",
    "ax.legend(fontsize=20,framealpha=0.7)\n",
    "ax.set_ylim(-1.2,1.2)\n",
    "ax.set_xlabel('$r$')\n",
    "ax.set_ylabel('$x$')\n",
    "plt.show()"
   ]
  },
  {
   "cell_type": "code",
   "execution_count": null,
   "metadata": {
    "hidden": true
   },
   "outputs": [],
   "source": [
    "# cobweb for r0=1.75488\n",
    "x1=0.5\n",
    "xx = np.linspace(-1,1,50)\n",
    "\n",
    "fig, ax=plt.subplots()\n",
    "cobweb_x(f2_series(x1,r0.n(6),100)[80:],ax,lw=2)\n",
    "\n",
    "ax.plot(xx,xx,'k--')\n",
    "ax.plot(xx,f2(xx,r0),'k-',lw=2)\n",
    "\n",
    "ax.set_aspect('equal')\n",
    "ax.grid()\n",
    "ax.set_xlabel('$x_n$')\n",
    "ax.set_ylabel('$x_{n+1}$')\n",
    "# ax.set_xticks(np.arange(0,1.2,0.2))\n",
    "plt.show()"
   ]
  },
  {
   "cell_type": "code",
   "execution_count": null,
   "metadata": {
    "hidden": true
   },
   "outputs": [],
   "source": [
    "eq_ = 1-x*(1-x)**2\n",
    "[u.n(6) for u in sp.solve(eq_,x)]"
   ]
  },
  {
   "cell_type": "code",
   "execution_count": null,
   "metadata": {
    "hidden": true
   },
   "outputs": [],
   "source": []
  }
 ],
 "metadata": {
  "hide_input": false,
  "kernelspec": {
   "display_name": "Python 3",
   "language": "python",
   "name": "python3"
  },
  "language_info": {
   "codemirror_mode": {
    "name": "ipython",
    "version": 3
   },
   "file_extension": ".py",
   "mimetype": "text/x-python",
   "name": "python",
   "nbconvert_exporter": "python",
   "pygments_lexer": "ipython3",
   "version": "3.7.8"
  },
  "latex_envs": {
   "LaTeX_envs_menu_present": true,
   "autoclose": false,
   "autocomplete": true,
   "bibliofile": "biblio.bib",
   "cite_by": "apalike",
   "current_citInitial": 1,
   "eqLabelWithNumbers": true,
   "eqNumInitial": 1,
   "hotkeys": {
    "equation": "Ctrl-E",
    "itemize": "Ctrl-I"
   },
   "labels_anchors": false,
   "latex_user_defs": false,
   "report_style_numbering": false,
   "user_envs_cfg": false
  }
 },
 "nbformat": 4,
 "nbformat_minor": 4
}
